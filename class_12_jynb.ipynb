{
  "nbformat": 4,
  "nbformat_minor": 0,
  "metadata": {
    "colab": {
      "name": "class 12.jynb",
      "provenance": [],
      "authorship_tag": "ABX9TyNvzIv7aPXR/JcM+soPCUG7",
      "include_colab_link": true
    },
    "kernelspec": {
      "name": "python3",
      "display_name": "Python 3"
    },
    "language_info": {
      "name": "python"
    }
  },
  "cells": [
    {
      "cell_type": "markdown",
      "metadata": {
        "id": "view-in-github",
        "colab_type": "text"
      },
      "source": [
        "<a href=\"https://colab.research.google.com/github/BinukOS/AKC-Projects/blob/main/class_12_jynb.ipynb\" target=\"_parent\"><img src=\"https://colab.research.google.com/assets/colab-badge.svg\" alt=\"Open In Colab\"/></a>"
      ]
    },
    {
      "cell_type": "code",
      "metadata": {
        "colab": {
          "base_uri": "https://localhost:8080/"
        },
        "id": "XaISDeBN7x11",
        "outputId": "969971f9-acb0-4ae9-bd1d-306bb8773a2f"
      },
      "source": [
        "questions = ['What is your name', 'How old are you', 'What is your school']\n",
        "list = []\n",
        "for question in questions:\n",
        "  one = input(question)\n",
        "  list.append(one)\n",
        "print(list)\n",
        "\n",
        "\n"
      ],
      "execution_count": 8,
      "outputs": [
        {
          "output_type": "stream",
          "text": [
            "What is your nameBINUK VIDANA GAMAGE\n",
            "How old are youe\n",
            "What is your school1\n",
            "['BINUK VIDANA GAMAGE', 'e', '1']\n"
          ],
          "name": "stdout"
        }
      ]
    }
  ]
}