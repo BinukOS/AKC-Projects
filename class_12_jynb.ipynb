{
  "nbformat": 4,
  "nbformat_minor": 0,
  "metadata": {
    "colab": {
      "name": "class 12.jynb",
      "provenance": [],
      "authorship_tag": "ABX9TyNuBu4bTfHOI2g8gTby2/GP",
      "include_colab_link": true
    },
    "kernelspec": {
      "name": "python3",
      "display_name": "Python 3"
    },
    "language_info": {
      "name": "python"
    }
  },
  "cells": [
    {
      "cell_type": "markdown",
      "metadata": {
        "id": "view-in-github",
        "colab_type": "text"
      },
      "source": [
        "<a href=\"https://colab.research.google.com/github/BinukOS/AKC-Projects/blob/main/class_12_jynb.ipynb\" target=\"_parent\"><img src=\"https://colab.research.google.com/assets/colab-badge.svg\" alt=\"Open In Colab\"/></a>"
      ]
    },
    {
      "cell_type": "code",
      "metadata": {
        "colab": {
          "base_uri": "https://localhost:8080/"
        },
        "id": "XaISDeBN7x11",
        "outputId": "9fc4f523-2291-4087-848e-c485a414305b"
      },
      "source": [
        "questions = ['What is your name', 'How old are you', 'What is your school']\n",
        "list = []\n",
        "for question in questions:\n",
        "  one = input(\"What is your name? \")\n",
        "  list.append(one)\n",
        "  two = input(\"How old are you? \")\n",
        "  list.append(two)\n",
        "  three = input(\"What is your school? \")\n",
        "  list.append(three)\n",
        "  break\n",
        "print(list)\n",
        "\n",
        "\n"
      ],
      "execution_count": null,
      "outputs": [
        {
          "output_type": "stream",
          "text": [
            "What is your name? BINUK VIDANA GAMAGE\n",
            "How old are you? i\n",
            "What is your school? i\n",
            "['BINUK VIDANA GAMAGE', 'i', 'i']\n"
          ],
          "name": "stdout"
        }
      ]
    }
  ]
}