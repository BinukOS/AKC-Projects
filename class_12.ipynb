{
  "nbformat": 4,
  "nbformat_minor": 0,
  "metadata": {
    "colab": {
      "name": "class 12.jynb",
      "provenance": [],
      "authorship_tag": "ABX9TyOaS5QM8roUN/yZhX7X8gI8",
      "include_colab_link": true
    },
    "kernelspec": {
      "name": "python3",
      "display_name": "Python 3"
    },
    "language_info": {
      "name": "python"
    }
  },
  "cells": [
    {
      "cell_type": "markdown",
      "metadata": {
        "id": "view-in-github",
        "colab_type": "text"
      },
      "source": [
        "<a href=\"https://colab.research.google.com/github/BinukOS/AKC-Projects/blob/main/class_12.ipynb\" target=\"_parent\"><img src=\"https://colab.research.google.com/assets/colab-badge.svg\" alt=\"Open In Colab\"/></a>"
      ]
    },
    {
      "cell_type": "code",
      "metadata": {
        "colab": {
          "base_uri": "https://localhost:8080/"
        },
        "id": "XaISDeBN7x11",
        "outputId": "969971f9-acb0-4ae9-bd1d-306bb8773a2f"
      },
      "source": [
        "questions = ['What is your name', 'How old are you', 'What is your school']\n",
        "list = []\n",
        "for question in questions:\n",
        "  one = input(question)\n",
        "  list.append(one)\n",
        "print(list)\n",
        "\n",
        "\n"
      ],
      "execution_count": null,
      "outputs": [
        {
          "output_type": "stream",
          "text": [
            "What is your nameBINUK VIDANA GAMAGE\n",
            "How old are youe\n",
            "What is your school1\n",
            "['BINUK VIDANA GAMAGE', 'e', '1']\n"
          ],
          "name": "stdout"
        }
      ]
    },
    {
      "cell_type": "code",
      "metadata": {
        "colab": {
          "base_uri": "https://localhost:8080/"
        },
        "id": "PedINDKxExjf",
        "outputId": "a14d7cfd-a350-4271-9544-54cb15b63b56"
      },
      "source": [
        "HAHAH = [\"Macbook\", \"PC\", \"Xbox\", \"PS5\"]\n",
        "HAHAH[2] = 'Potato'\n",
        "print(HAHAH)"
      ],
      "execution_count": 20,
      "outputs": [
        {
          "output_type": "stream",
          "text": [
            "['Macbook', 'PC', 'Potato', 'PS5']\n"
          ],
          "name": "stdout"
        }
      ]
    },
    {
      "cell_type": "code",
      "metadata": {
        "colab": {
          "base_uri": "https://localhost:8080/"
        },
        "id": "OStDPvqKG_ii",
        "outputId": "c8bfd002-19d0-40b7-9c83-8e79881e66c0"
      },
      "source": [
        "HA = [\"Macbook\", \"PC\", \"Xbox\", \"PS5\"]\n",
        "print(HA[2])"
      ],
      "execution_count": 21,
      "outputs": [
        {
          "output_type": "stream",
          "text": [
            "Xbox\n"
          ],
          "name": "stdout"
        }
      ]
    },
    {
      "cell_type": "code",
      "metadata": {
        "colab": {
          "base_uri": "https://localhost:8080/"
        },
        "id": "x6lIHaoSHKWx",
        "outputId": "f4ef9667-9d59-47ef-fc78-1ffde264102c"
      },
      "source": [
        "HA = [\"Macbook\", \"PC\", \"Xbox\", \"PS5\"]\n",
        "print(HA[1:4])"
      ],
      "execution_count": 23,
      "outputs": [
        {
          "output_type": "stream",
          "text": [
            "['PC', 'Xbox', 'PS5']\n"
          ],
          "name": "stdout"
        }
      ]
    },
    {
      "cell_type": "code",
      "metadata": {
        "colab": {
          "base_uri": "https://localhost:8080/",
          "height": 198
        },
        "id": "6U-djCjeIYjr",
        "outputId": "bdb3cb88-0633-48f5-f50b-1bb27ed7a931"
      },
      "source": [
        "fruits.append(\"Grapes\") \n",
        "print(fruits)\n",
        "[\"Macbook\", \"PC\", \"Xbox\", \"PS5\"]"
      ],
      "execution_count": 25,
      "outputs": [
        {
          "output_type": "error",
          "ename": "NameError",
          "evalue": "ignored",
          "traceback": [
            "\u001b[0;31m---------------------------------------------------------------------------\u001b[0m",
            "\u001b[0;31mNameError\u001b[0m                                 Traceback (most recent call last)",
            "\u001b[0;32m<ipython-input-25-fa2fd9957e4a>\u001b[0m in \u001b[0;36m<module>\u001b[0;34m()\u001b[0m\n\u001b[0;32m----> 1\u001b[0;31m \u001b[0mfruits\u001b[0m\u001b[0;34m.\u001b[0m\u001b[0mappend\u001b[0m\u001b[0;34m(\u001b[0m\u001b[0;34m\"Grapes\"\u001b[0m\u001b[0;34m)\u001b[0m\u001b[0;34m\u001b[0m\u001b[0;34m\u001b[0m\u001b[0m\n\u001b[0m\u001b[1;32m      2\u001b[0m \u001b[0mprint\u001b[0m\u001b[0;34m(\u001b[0m\u001b[0mfruits\u001b[0m\u001b[0;34m)\u001b[0m\u001b[0;34m\u001b[0m\u001b[0;34m\u001b[0m\u001b[0m\n\u001b[1;32m      3\u001b[0m \u001b[0;34m[\u001b[0m\u001b[0;34m\"Macbook\"\u001b[0m\u001b[0;34m,\u001b[0m \u001b[0;34m\"PC\"\u001b[0m\u001b[0;34m,\u001b[0m \u001b[0;34m\"Xbox\"\u001b[0m\u001b[0;34m,\u001b[0m \u001b[0;34m\"PS5\"\u001b[0m\u001b[0;34m]\u001b[0m\u001b[0;34m\u001b[0m\u001b[0;34m\u001b[0m\u001b[0m\n",
            "\u001b[0;31mNameError\u001b[0m: name 'fruits' is not defined"
          ]
        }
      ]
    }
  ]
}